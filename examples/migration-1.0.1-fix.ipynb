{
 "cells": [
  {
   "cell_type": "code",
   "execution_count": null,
   "metadata": {},
   "outputs": [],
   "source": [
    "import h5py"
   ]
  },
  {
   "cell_type": "code",
   "execution_count": null,
   "metadata": {},
   "outputs": [],
   "source": [
    "from pathlib import Path"
   ]
  },
  {
   "cell_type": "markdown",
   "metadata": {},
   "source": [
    "`high_1_0_1.hdf5` is copied from `high_1_0_2.hdf5` so all but real are symlink to `high_1.hdf5`.\n",
    "\n",
    "`high_1.hdf5` contains v1.0.1 here.\n",
    "\n",
    "Copy real from `high_1.hdf5` to `high_1_0_1.hdf5`."
   ]
  },
  {
   "cell_type": "code",
   "execution_count": null,
   "metadata": {},
   "outputs": [],
   "source": [
    "path_s = Path('/scratch/largepatch_new/high_1.hdf5')\n",
    "path_d = Path('/scratch/largepatch_new/high_1_0_1.hdf5')"
   ]
  },
  {
   "cell_type": "code",
   "execution_count": null,
   "metadata": {},
   "outputs": [],
   "source": [
    "fs = h5py.File(path_s, 'r')\n",
    "fd = h5py.File(path_d, 'r+')"
   ]
  },
  {
   "cell_type": "code",
   "execution_count": null,
   "metadata": {},
   "outputs": [],
   "source": [
    "for path in (\n",
    "    '/full/pseudo_spectra/realmaps',\n",
    "    '/null/pseudo_spectra/realmaps',\n",
    "):\n",
    "    fd[path][...] = fs[path][:]"
   ]
  },
  {
   "cell_type": "code",
   "execution_count": null,
   "metadata": {},
   "outputs": [],
   "source": [
    "fs.close()\n",
    "fd.close()"
   ]
  },
  {
   "cell_type": "markdown",
   "metadata": {},
   "source": [
    "Overwrite real in `high_1.hdf5` from v1.0.\n",
    "\n",
    "See `migration-1.0.2.ipynb`."
   ]
  },
  {
   "cell_type": "markdown",
   "metadata": {},
   "source": [
    "# Full pseudo spectra"
   ]
  },
  {
   "cell_type": "code",
   "execution_count": null,
   "metadata": {},
   "outputs": [],
   "source": [
    "out_path = path_s"
   ]
  },
  {
   "cell_type": "code",
   "execution_count": null,
   "metadata": {},
   "outputs": [],
   "source": [
    "from tail.analysis.container import PseudoSpectra"
   ]
  },
  {
   "cell_type": "code",
   "execution_count": null,
   "metadata": {},
   "outputs": [],
   "source": [
    "path = '/scratch/largepatch_null/high_1/wo_deconvolve/pseudo_full_wo_deconvolve.hdf5'"
   ]
  },
  {
   "cell_type": "code",
   "execution_count": null,
   "metadata": {},
   "outputs": [],
   "source": [
    "%time full_pseudo_spectra = PseudoSpectra.load([path], spec='h5_pandas', full=True)"
   ]
  },
  {
   "cell_type": "code",
   "execution_count": null,
   "metadata": {},
   "outputs": [],
   "source": [
    "# effectively discard simmaps on save\n",
    "full_pseudo_spectra.map_cases = ('realmaps',)"
   ]
  },
  {
   "cell_type": "code",
   "execution_count": null,
   "metadata": {},
   "outputs": [],
   "source": [
    "# delete real pseudo-spectra from output first\n",
    "with h5py.File(out_path, 'r+') as f:\n",
    "    del f['/full/pseudo_spectra/realmaps']"
   ]
  },
  {
   "cell_type": "code",
   "execution_count": null,
   "metadata": {},
   "outputs": [],
   "source": [
    "%time full_pseudo_spectra.save(out_path)"
   ]
  },
  {
   "cell_type": "markdown",
   "metadata": {},
   "source": [
    "# Null pseudo spectra"
   ]
  },
  {
   "cell_type": "code",
   "execution_count": null,
   "metadata": {},
   "outputs": [],
   "source": [
    "paths = ['/scratch/largepatch_null/high_1/wo_deconvolve/null_realmaps_wo_deconvolve.hdf5.ignore']"
   ]
  },
  {
   "cell_type": "code",
   "execution_count": null,
   "metadata": {},
   "outputs": [],
   "source": [
    "%time null_pseudo_spectra = PseudoSpectra.load(paths, spec='h5_pandas')"
   ]
  },
  {
   "cell_type": "code",
   "execution_count": null,
   "metadata": {},
   "outputs": [],
   "source": [
    "# effectively discard simmaps on save\n",
    "null_pseudo_spectra.map_cases = ('realmaps',)"
   ]
  },
  {
   "cell_type": "code",
   "execution_count": null,
   "metadata": {},
   "outputs": [],
   "source": [
    "# delete real pseudo-spectra from output first\n",
    "with h5py.File(out_path,  \"a\") as f:\n",
    "    del f['/null/pseudo_spectra/realmaps']"
   ]
  },
  {
   "cell_type": "code",
   "execution_count": null,
   "metadata": {},
   "outputs": [],
   "source": [
    "%time null_pseudo_spectra.save(out_path)"
   ]
  }
 ],
 "metadata": {
  "kernelspec": {
   "display_name": "all3-defaults",
   "language": "python",
   "name": "all3-defaults"
  },
  "language_info": {
   "codemirror_mode": {
    "name": "ipython",
    "version": 3
   },
   "file_extension": ".py",
   "mimetype": "text/x-python",
   "name": "python",
   "nbconvert_exporter": "python",
   "pygments_lexer": "ipython3",
   "version": "3.6.10"
  }
 },
 "nbformat": 4,
 "nbformat_minor": 4
}
